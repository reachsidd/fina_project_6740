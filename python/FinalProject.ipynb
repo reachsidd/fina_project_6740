{
  "nbformat": 4,
  "nbformat_minor": 0,
  "metadata": {
    "colab": {
      "name": "Untitled0.ipynb",
      "provenance": [],
      "authorship_tag": "ABX9TyMhdLGZ2KpypysdA5VwfAjY",
      "include_colab_link": true
    },
    "kernelspec": {
      "name": "python3",
      "display_name": "Python 3"
    },
    "language_info": {
      "name": "python"
    }
  },
  "cells": [
    {
      "cell_type": "markdown",
      "metadata": {
        "id": "view-in-github",
        "colab_type": "text"
      },
      "source": [
        "<a href=\"https://colab.research.google.com/github/reachsidd/fina_project_6740/blob/main/python/FinalProject.ipynb\" target=\"_parent\"><img src=\"https://colab.research.google.com/assets/colab-badge.svg\" alt=\"Open In Colab\"/></a>"
      ]
    },
    {
      "cell_type": "code",
      "metadata": {
        "colab": {
          "base_uri": "https://localhost:8080/"
        },
        "id": "udPcjc5mX-zT",
        "outputId": "9c96f83c-ed18-49fd-bf90-c0c9ce6be86e"
      },
      "source": [
        "import re\n",
        "import string\n",
        "\n",
        "import pandas as pd\n",
        "import seaborn as sns\n",
        "import matplotlib.pyplot as plt\n",
        "import numpy as np\n",
        "import nltk\n",
        "import sklearn.model_selection\n",
        "nltk.download('punkt')\n",
        "nltk.download('stopwords')\n",
        "import bs4\n",
        "import wordcloud\n",
        "\n",
        "import keras.preprocessing\n",
        "import tensorflow as tf"
      ],
      "execution_count": 1,
      "outputs": [
        {
          "output_type": "stream",
          "text": [
            "[nltk_data] Downloading package punkt to /root/nltk_data...\n",
            "[nltk_data]   Unzipping tokenizers/punkt.zip.\n",
            "[nltk_data] Downloading package stopwords to /root/nltk_data...\n",
            "[nltk_data]   Unzipping corpora/stopwords.zip.\n"
          ],
          "name": "stdout"
        }
      ]
    },
    {
      "cell_type": "code",
      "metadata": {
        "id": "hFdsuxpf74P3"
      },
      "source": [
        "# get raw text from htmls\n",
        "def clean_html(text):\n",
        "    soup = bs4.BeautifulSoup(text, 'html.parser')\n",
        "    return soup.get_text()"
      ],
      "execution_count": null,
      "outputs": []
    },
    {
      "cell_type": "code",
      "metadata": {
        "id": "ZG1E5Dj275Q3"
      },
      "source": [
        "# remove stopwords, punctuations and lower the case\n",
        "def remove_stopwords_case_normalization(text):\n",
        "    stopwords = nltk.corpus.stopwords.words('english')\n",
        "    #print(stopwords)\n",
        "    text_new = text.lower()\n",
        "    text_new = re.sub('[^a-z]', ' ', text_new)\n",
        "    # print(text_new)\n",
        "    text_new = \"\".join([i for i in text_new if i not in string.punctuation])\n",
        "    #print(text_new)\n",
        "    words = text_new.split()\n",
        "    #print(words)\n",
        "    text_new = \" \".join([i for i in words if i not in stopwords])\n",
        "    #print(text_new)\n",
        "    return text_new"
      ],
      "execution_count": null,
      "outputs": []
    },
    {
      "cell_type": "code",
      "metadata": {
        "id": "bj97KKbJ775v"
      },
      "source": [
        "def clean_text(text):\n",
        "    # Remove urls\n",
        "    text_new = re.sub(r'http\\S+', '', text)\n",
        "    text_new = clean_html(text_new)\n",
        "    text_new = remove_stopwords_case_normalization(text_new)\n",
        "    return text_new"
      ],
      "execution_count": null,
      "outputs": []
    },
    {
      "cell_type": "code",
      "metadata": {
        "id": "oROfcztU7-c-"
      },
      "source": [
        "    github_data_file_url='https://github.com/reachsidd/fina_project_6740/blob/main/data/fake-news.zip?raw=true'\n",
        "    df1 = pd.read_csv(github_data_file_url,compression='zip')\n",
        "    train = pd.read_csv(\"../data/train.csv\")\n",
        "    test = pd.read_csv(\"../data/test.csv\")\n",
        "    submit = pd.read_csv(\"../data/submit.csv\")"
      ],
      "execution_count": null,
      "outputs": []
    },
    {
      "cell_type": "code",
      "metadata": {
        "colab": {
          "base_uri": "https://localhost:8080/"
        },
        "id": "PMrrakaQkFYZ",
        "outputId": "47de5e49-73f5-4319-e7d2-155d051e49d7"
      },
      "source": [
        "import io\n",
        "import pandas as pd\n",
        "\n",
        "#print(uploaded)\n",
        "\n",
        "df2 = pd.read_csv(io.BytesIO(uploaded['True.csv']))\n",
        "print(df2.head())"
      ],
      "execution_count": null,
      "outputs": [
        {
          "output_type": "stream",
          "text": [
            "                                               title  ...                date\n",
            "0  As U.S. budget fight looms, Republicans flip t...  ...  December 31, 2017 \n",
            "1  U.S. military to accept transgender recruits o...  ...  December 29, 2017 \n",
            "2  Senior U.S. Republican senator: 'Let Mr. Muell...  ...  December 31, 2017 \n",
            "3  FBI Russia probe helped by Australian diplomat...  ...  December 30, 2017 \n",
            "4  Trump wants Postal Service to charge 'much mor...  ...  December 29, 2017 \n",
            "\n",
            "[5 rows x 4 columns]\n"
          ],
          "name": "stdout"
        }
      ]
    },
    {
      "cell_type": "code",
      "metadata": {
        "id": "ifv28AEw73D1"
      },
      "source": [
        ""
      ],
      "execution_count": null,
      "outputs": []
    },
    {
      "cell_type": "code",
      "metadata": {
        "colab": {
          "base_uri": "https://localhost:8080/"
        },
        "id": "P6AftwTxpmvx",
        "outputId": "ce12213b-2253-405a-c08a-c0dd7cc8dfe7"
      },
      "source": [
        "\n",
        "\n",
        "url = \"https://storage.googleapis.com/kaggle-competitions-data/kaggle-v2/8317/109592/compressed/train.csv.zip?GoogleAccessId=web-data@kaggle-161607.iam.gserviceaccount.com&Expires=1627492240&Signature=O7LAjQGdrz0NKOX6X%2FDEsXuTcYud13eV2pnahMNZcRiKiLZNTuWwIXhgZK9z7ocnRAu1yls%2FXPS6cnkMzI9O9aHkAltuEUHkG%2FGcyZEkrWWTYaVUD6zLY4avJA3NJSUDLgUJC0Xu3fFnJuDF%2F1HssQnJ17aOchk0XTwPe2ouxJ3h7eLKWeZFf7swL68S3FHiHTGvCP1ESx76JIZqGzmqoTQ%2BfCzM%2BGvasmTSMb%2BpvCTYbJjXHPR5wLlv5uYpJuUr5YTCOitr5pHWV3Y9DsbJ%2FMxTs8WlGaP3d331VyBJsKPvflKXbCctv9B0QHN6EYXiXxf16AFb9bKZm3LeHay2uw%3D%3D&response-content-disposition=attachment%3B+filename%3Dtrain.csv.zip\"\n",
        "\n",
        "df1 = pd.read_csv(url,compression='zip')\n",
        "\n",
        "\n",
        "\n",
        "  \n",
        "# display dataset\n",
        "print(df1.head())\n",
        "print(df1.describe())\n",
        "print(df1.columns)\n"
      ],
      "execution_count": null,
      "outputs": [
        {
          "output_type": "stream",
          "text": [
            "   id  ... label\n",
            "0   0  ...     1\n",
            "1   1  ...     0\n",
            "2   2  ...     1\n",
            "3   3  ...     1\n",
            "4   4  ...     1\n",
            "\n",
            "[5 rows x 5 columns]\n",
            "                 id         label\n",
            "count  20800.000000  20800.000000\n",
            "mean   10399.500000      0.500625\n",
            "std     6004.587135      0.500012\n",
            "min        0.000000      0.000000\n",
            "25%     5199.750000      0.000000\n",
            "50%    10399.500000      1.000000\n",
            "75%    15599.250000      1.000000\n",
            "max    20799.000000      1.000000\n",
            "Index(['id', 'title', 'author', 'text', 'label'], dtype='object')\n"
          ],
          "name": "stdout"
        }
      ]
    }
  ]
}