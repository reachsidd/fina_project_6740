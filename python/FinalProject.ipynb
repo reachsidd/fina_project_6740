{
  "nbformat": 4,
  "nbformat_minor": 0,
  "metadata": {
    "colab": {
      "name": "Untitled0.ipynb",
      "provenance": [],
      "authorship_tag": "ABX9TyOqtTeyiaPIghmBtkyDWRrN",
      "include_colab_link": true
    },
    "kernelspec": {
      "name": "python3",
      "display_name": "Python 3"
    },
    "language_info": {
      "name": "python"
    }
  },
  "cells": [
    {
      "cell_type": "markdown",
      "metadata": {
        "id": "view-in-github",
        "colab_type": "text"
      },
      "source": [
        "<a href=\"https://colab.research.google.com/github/reachsidd/fina_project_6740/blob/main/python/FinalProject.ipynb\" target=\"_parent\"><img src=\"https://colab.research.google.com/assets/colab-badge.svg\" alt=\"Open In Colab\"/></a>"
      ]
    },
    {
      "cell_type": "code",
      "metadata": {
        "colab": {
          "base_uri": "https://localhost:8080/"
        },
        "id": "udPcjc5mX-zT",
        "outputId": "02511a05-7469-4a00-ff2b-387a51ca58e8"
      },
      "source": [
        "import re\n",
        "import string\n",
        "\n",
        "import pandas as pd\n",
        "import seaborn as sns\n",
        "import matplotlib.pyplot as plt\n",
        "import numpy as np\n",
        "import nltk\n",
        "import sklearn.model_selection\n",
        "nltk.download('punkt')\n",
        "nltk.download('stopwords')\n",
        "import bs4\n",
        "import wordcloud\n",
        "\n",
        "import keras.preprocessing\n",
        "import tensorflow as tf\n",
        "import zipfile"
      ],
      "execution_count": 39,
      "outputs": [
        {
          "output_type": "stream",
          "text": [
            "[nltk_data] Downloading package punkt to /root/nltk_data...\n",
            "[nltk_data]   Package punkt is already up-to-date!\n",
            "[nltk_data] Downloading package stopwords to /root/nltk_data...\n",
            "[nltk_data]   Package stopwords is already up-to-date!\n"
          ],
          "name": "stdout"
        }
      ]
    },
    {
      "cell_type": "code",
      "metadata": {
        "id": "hFdsuxpf74P3"
      },
      "source": [
        "# get raw text from htmls\n",
        "def clean_html(text):\n",
        "    soup = bs4.BeautifulSoup(text, 'html.parser')\n",
        "    return soup.get_text()"
      ],
      "execution_count": 40,
      "outputs": []
    },
    {
      "cell_type": "code",
      "metadata": {
        "id": "ZG1E5Dj275Q3"
      },
      "source": [
        "# remove stopwords, punctuations and lower the case\n",
        "def remove_stopwords_case_normalization(text):\n",
        "    stopwords = nltk.corpus.stopwords.words('english')\n",
        "    #print(stopwords)\n",
        "    text_new = text.lower()\n",
        "    text_new = re.sub('[^a-z]', ' ', text_new)\n",
        "    # print(text_new)\n",
        "    text_new = \"\".join([i for i in text_new if i not in string.punctuation])\n",
        "    #print(text_new)\n",
        "    words = text_new.split()\n",
        "    #print(words)\n",
        "    text_new = \" \".join([i for i in words if i not in stopwords])\n",
        "    #print(text_new)\n",
        "    return text_new"
      ],
      "execution_count": 41,
      "outputs": []
    },
    {
      "cell_type": "code",
      "metadata": {
        "id": "bj97KKbJ775v"
      },
      "source": [
        "def clean_text(text):\n",
        "    # Remove urls\n",
        "    text_new = re.sub(r'http\\S+', '', text)\n",
        "    text_new = clean_html(text_new)\n",
        "    text_new = remove_stopwords_case_normalization(text_new)\n",
        "    return text_new"
      ],
      "execution_count": 42,
      "outputs": []
    },
    {
      "cell_type": "code",
      "metadata": {
        "id": "oROfcztU7-c-",
        "outputId": "a6c1a2c7-6372-4909-87fd-58808b7f25b7",
        "colab": {
          "base_uri": "https://localhost:8080/"
        }
      },
      "source": [
        "train_github_url='https://github.com/reachsidd/fina_project_6740/blob/main/data/train.zip?raw=true'\n",
        "test_github_url='https://github.com/reachsidd/fina_project_6740/blob/main/data/test.zip?raw=true'\n",
        "submit_github_url='https://github.com/reachsidd/fina_project_6740/blob/main/data/submit.zip?raw=true'\n",
        "\n",
        "train = pd.read_csv(train_github_url,compression='zip')\n",
        "test = pd.read_csv(test_github_url,compression='zip')\n",
        "submit = pd.read_csv(submit_github_url,compression='zip')\n",
        "test = test.merge(submit, on='id')\n",
        "print(train.head())\n",
        "print(test.head())\n",
        "\n",
        "# null check\n",
        "print(train.isna().sum())\n",
        "# null check\n",
        "print(test.isna().sum())\n",
        "\n",
        "# filling NULL values with empty string\n",
        "train = train.fillna('')\n",
        "test = test.fillna('')\n"
      ],
      "execution_count": 43,
      "outputs": [
        {
          "output_type": "stream",
          "text": [
            "   id  ... label\n",
            "0   0  ...     1\n",
            "1   1  ...     0\n",
            "2   2  ...     1\n",
            "3   3  ...     1\n",
            "4   4  ...     1\n",
            "\n",
            "[5 rows x 5 columns]\n",
            "      id  ... label\n",
            "0  20800  ...     0\n",
            "1  20801  ...     1\n",
            "2  20802  ...     0\n",
            "3  20803  ...     1\n",
            "4  20804  ...     1\n",
            "\n",
            "[5 rows x 5 columns]\n",
            "id           0\n",
            "title      558\n",
            "author    1957\n",
            "text        39\n",
            "label        0\n",
            "dtype: int64\n",
            "id          0\n",
            "title     122\n",
            "author    503\n",
            "text        7\n",
            "label       0\n",
            "dtype: int64\n"
          ],
          "name": "stdout"
        }
      ]
    },
    {
      "cell_type": "code",
      "metadata": {
        "id": "6Zp5DBjiAENG"
      },
      "source": [
        "#FOR TESTING ONLY\n",
        "#train = train.head(100)\n",
        "#test = test.head(100)"
      ],
      "execution_count": 44,
      "outputs": []
    },
    {
      "cell_type": "code",
      "metadata": {
        "id": "PMrrakaQkFYZ"
      },
      "source": [
        "train['content'] = train['text'] + ' ' + train['title']\n",
        "train.drop(columns=['title', 'text', 'author', 'id'], inplace=True)\n",
        "\n",
        "test['content'] = test['text'] + ' ' + test['title']\n",
        "test.drop(columns=['title', 'text', 'author', 'id'], inplace=True)\n",
        "\n",
        "train['content'] = train['content'].apply(clean_text)\n",
        "print(train.head())\n",
        "\n",
        "test['content'] = test['content'].apply(clean_text)\n",
        "print(test.head())"
      ],
      "execution_count": null,
      "outputs": []
    },
    {
      "cell_type": "code",
      "metadata": {
        "id": "ifv28AEw73D1"
      },
      "source": [
        "# WORDCLOUD FOR  CLEAN TEXT(LABEL - 1 - True)\n",
        "plt.figure(figsize=(20, 20))  # Text that is not Fake\n",
        "wc = wordcloud.WordCloud(max_words=2000, width=1600, height=800, stopwords=wordcloud.STOPWORDS).generate(\n",
        "    \" \".join(train[train.label == 1].content))\n",
        "plt.imshow(wc, interpolation='bilinear')\n",
        "plt.show()"
      ],
      "execution_count": null,
      "outputs": []
    },
    {
      "cell_type": "code",
      "metadata": {
        "id": "P6AftwTxpmvx"
      },
      "source": [
        "# WORDCLOUD FOR  CLEAN TEXT(LABEL - 0 - fake)\n",
        "plt.figure(figsize=(20, 20))  # Text that is Fake\n",
        "wc = wordcloud.WordCloud(max_words=2000, width=1600, height=800, stopwords=wordcloud.STOPWORDS).generate(\n",
        "    \" \".join(train[train.label == 0].content))\n",
        "plt.imshow(wc, interpolation='bilinear')\n",
        "plt.show()"
      ],
      "execution_count": null,
      "outputs": []
    },
    {
      "cell_type": "code",
      "metadata": {
        "id": "bwvfkaZMBbeM"
      },
      "source": [
        "# NLP - Tokenize and apply Porter’s Stemmer algorithm\n",
        "ps = nltk.stem.porter.PorterStemmer()\n",
        "train['content'] = train['content'].apply(lambda x:' '.join([ps.stem(word) for word in nltk.tokenize.word_tokenize(x)]))\n",
        "print(train.head())\n",
        "\n",
        "test['content'] = test['content'].apply(lambda x:' '.join([ps.stem(word) for word in nltk.tokenize.word_tokenize(x)]))\n",
        "print(test.head())\n",
        "\n",
        "max_features = 300\n",
        "maxlen = 300\n",
        "tokenizer = keras.preprocessing.text.Tokenizer(num_words=max_features)\n",
        "tokenizer.fit_on_texts(train['content'])\n",
        "voc_size=len(tokenizer.word_index)\n",
        "print(\"voc_size=\",voc_size)\n",
        "x_train = tokenizer.texts_to_matrix(train['content'])\n",
        "print(x_train.shape)\n",
        "x_test = tokenizer.texts_to_matrix(test['content'])\n",
        "print(x_test.shape)\n",
        "y_train = train['label']\n",
        "y_test = test['label']\n",
        "print(y_train.shape)\n",
        "print(y_test.shape)"
      ],
      "execution_count": null,
      "outputs": []
    },
    {
      "cell_type": "code",
      "metadata": {
        "id": "Y_80iqE-BkJJ"
      },
      "source": [
        "#Creating and training  model\n",
        "# We have used embedding layers with LSTM\n",
        "model = tf.keras.models.Sequential()\n",
        "model.add(tf.keras.layers.Embedding(voc_size, 40, input_length=maxlen))\n",
        "model.add(tf.keras.layers.Dropout(0.3))\n",
        "model.add(tf.keras.layers.LSTM(100))\n",
        "model.add(tf.keras.layers.Dropout(0.3))\n",
        "model.add(tf.keras.layers.Dense(64, activation='relu'))\n",
        "model.add(tf.keras.layers.Dropout(0.3))\n",
        "model.add(tf.keras.layers.Dense(1, activation='sigmoid'))\n",
        "model.compile(loss='binary_crossentropy', optimizer='adam', metrics=['accuracy'])\n",
        "print(model.summary())"
      ],
      "execution_count": null,
      "outputs": []
    },
    {
      "cell_type": "code",
      "metadata": {
        "id": "RlPIj9JYB0vj"
      },
      "source": [
        "model.fit(x_train,y_train,epochs=20,batch_size=64)"
      ],
      "execution_count": null,
      "outputs": []
    },
    {
      "cell_type": "code",
      "metadata": {
        "id": "LHWBk2igB7En"
      },
      "source": [
        "y_train_pred = (model.predict(x_train) >0.5).astype(\"int32\")\n",
        "y_test_pred = (model.predict(x_test) >0.5).astype(\"int32\")\n",
        "\n",
        "train_accuracy=sklearn.metrics.accuracy_score(y_train, y_train_pred)\n",
        "test_accuracy=sklearn.metrics.accuracy_score(y_test, y_test_pred)\n",
        "\n",
        "print('train_accuracy=',train_accuracy)\n",
        "print('test_accuracy=',test_accuracy)\n",
        "\n"
      ],
      "execution_count": null,
      "outputs": []
    },
    {
      "cell_type": "code",
      "metadata": {
        "id": "En7IGIv5DTqN"
      },
      "source": [
        ""
      ],
      "execution_count": null,
      "outputs": []
    }
  ]
}